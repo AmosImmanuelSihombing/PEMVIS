{
  "nbformat": 4,
  "nbformat_minor": 0,
  "metadata": {
    "colab": {
      "provenance": []
    },
    "kernelspec": {
      "name": "python3",
      "display_name": "Python 3"
    },
    "language_info": {
      "name": "python"
    }
  },
  "cells": [
    {
      "cell_type": "code",
      "execution_count": 6,
      "metadata": {
        "colab": {
          "base_uri": "https://localhost:8080/"
        },
        "id": "kTB09CQKJ0N2",
        "outputId": "b1c2cb28-e989-4808-8b86-271a3f989943"
      },
      "outputs": [
        {
          "output_type": "stream",
          "name": "stdout",
          "text": [
            "Masukkan nama-nama teman (ketik 'selesai' untuk mengakhiri):\n",
            "Nama teman: amos\n",
            "Nama teman: stanley\n",
            "Nama teman: selesai\n",
            "\n",
            "Daftar nama teman:\n",
            "stanley\n",
            "amos\n"
          ]
        }
      ],
      "source": [
        "# Membuat set kosong untuk menyimpan nama-nama teman\n",
        "teman = set()\n",
        "\n",
        "# Meminta pengguna untuk memasukkan nama-nama teman, \"selesai\" untuk mengakhiri\n",
        "print(\"Masukkan nama-nama teman (ketik 'selesai' untuk mengakhiri):\")\n",
        "while True:\n",
        "    nama = input(\"Nama teman: \")\n",
        "    if nama.lower() == 'selesai':\n",
        "        break\n",
        "    else:\n",
        "        teman.add(nama)  # Menambahkan nama teman ke dalam set\n",
        "\n",
        "# Mencetak daftar nama-nama teman yang unik\n",
        "print(\"\\nDaftar nama teman:\")\n",
        "for nama in teman:\n",
        "  print(nama)"
      ]
    }
  ]
}