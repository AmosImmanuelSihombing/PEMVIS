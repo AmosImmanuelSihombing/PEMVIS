{
  "nbformat": 4,
  "nbformat_minor": 0,
  "metadata": {
    "colab": {
      "provenance": []
    },
    "kernelspec": {
      "name": "python3",
      "display_name": "Python 3"
    },
    "language_info": {
      "name": "python"
    }
  },
  "cells": [
    {
      "cell_type": "code",
      "execution_count": 1,
      "metadata": {
        "colab": {
          "base_uri": "https://localhost:8080/",
          "height": 452
        },
        "id": "RCw1R54PtWyP",
        "outputId": "b3c1f33c-0775-4d4b-8e26-5ff219525e5d"
      },
      "outputs": [
        {
          "output_type": "stream",
          "name": "stdout",
          "text": [
            "col, row = 800 , 800\n"
          ]
        },
        {
          "output_type": "display_data",
          "data": {
            "text/plain": [
              "<Figure size 640x480 with 1 Axes>"
            ],
            "image/png": "[encoded data removed]"
          },
          "metadata": {}
        }
      ],
      "source": [
        "import numpy as np\n",
        "import matplotlib.pyplot as plt\n",
        "\n",
        "# User entries the user informs the coordinates\n",
        "x1 = 100; y1 = 200\n",
        "x2 = 700; y2 = 700\n",
        "\n",
        "# The user decides the line width\n",
        "lw = int(10)\n",
        "\n",
        "# Calculate the half line canvas\n",
        "hw = int(lw/2)\n",
        "\n",
        "# Setting the size of the canvas\n",
        "col = int(800)\n",
        "row = int(800)\n",
        "print(\"col, row =\", col, \",\", row)\n",
        "\n",
        "# Preparing the lack canvas\n",
        "gambar = np.zeros(shape=(row, col, 3), dtype=np.uint8)\n",
        "gambar[:, :, :] = 255       # Mengubah layar ke putih\n",
        "\n",
        "# Warna hijau\n",
        "hijau = (0, 255, 0)\n",
        "\n",
        "# Menggambar titik dengan satu piksel\n",
        "gambar[y1, x1, :] = hijau\n",
        "gambar[y2, x2, :] = hijau\n",
        "# gambar[y1, x1, 0] = 255\n",
        "\n",
        "for i in range(x1-hw, x1+hw):\n",
        "    for j in range(y1-hw, y1+hw):\n",
        "        if ((i - x1)**2 + (j-y1)**2) < hw **2:\n",
        "            gambar[j, i, :] = hijau\n",
        "            # gambar[j, i, 0] = 255\n",
        "\n",
        "for i in range(x2-hw, x2+hw):\n",
        "    for j in range(y2-hw, y2+hw):\n",
        "        if ((i - x2)**2 + (j-y2)**2) < hw **2:\n",
        "            gambar[j, i, :] = hijau\n",
        "            # gambar[j, i, 0] = 255\n",
        "\n",
        "plt.figure()\n",
        "plt.imshow(gambar)\n",
        "plt.show()"
      ]
    }
  ]
}