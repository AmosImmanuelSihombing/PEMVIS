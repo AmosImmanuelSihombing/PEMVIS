{
  "nbformat": 4,
  "nbformat_minor": 0,
  "metadata": {
    "colab": {
      "provenance": []
    },
    "kernelspec": {
      "name": "python3",
      "display_name": "Python 3"
    },
    "language_info": {
      "name": "python"
    }
  },
  "cells": [
    {
      "cell_type": "code",
      "execution_count": 4,
      "metadata": {
        "colab": {
          "base_uri": "https://localhost:8080/"
        },
        "id": "SZDX-xd7KcV_",
        "outputId": "f45ab033-1423-4265-9b70-7ffd34b46029"
      },
      "outputs": [
        {
          "output_type": "stream",
          "name": "stdout",
          "text": [
            "Masukkan nama pengguna: user1\n",
            "Anda memiliki akses ke fitur tersebut.\n"
          ]
        }
      ],
      "source": [
        "# Program untuk mengecek apakah seorang pengguna memiliki akses ke suatu fitur\n",
        "\n",
        "# Fungsi untuk memeriksa izin akses pengguna\n",
        "def check_access(username):\n",
        "    # Simulasi database pengguna yang memiliki akses\n",
        "    allowed_users = ['user1', 'user2', 'user3']\n",
        "\n",
        "    # Mengecek apakah pengguna memiliki akses\n",
        "    if username in allowed_users:\n",
        "        return True\n",
        "    else:\n",
        "        return False\n",
        "\n",
        "# Main program\n",
        "def main():\n",
        "    # Mengambil input dari pengguna\n",
        "    username = input(\"Masukkan nama pengguna: \")\n",
        "\n",
        "    # Memeriksa izin akses pengguna\n",
        "    has_access = check_access(username)\n",
        "\n",
        "    # Menampilkan hasil\n",
        "    if has_access:\n",
        "        print(\"Anda memiliki akses ke fitur tersebut.\")\n",
        "    else:\n",
        "        print(\"Anda tidak memiliki akses ke fitur tersebut.\")\n",
        "\n",
        "# Memanggil fungsi main\n",
        "if __name__ == \"__main__\":\n",
        "  main()"
      ]
    }
  ]
}